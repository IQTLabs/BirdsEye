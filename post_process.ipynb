{
 "cells": [
  {
   "cell_type": "code",
   "execution_count": 1,
   "id": "10c8ba0c",
   "metadata": {},
   "outputs": [],
   "source": [
    "import os\n",
    "import json \n",
    "import pandas as pd \n",
    "import matplotlib.pyplot as plt \n",
    "import numpy as np \n",
    "from pathlib import Path\n",
    "from pytz import timezone\n",
    "import pytz\n",
    "import calendar\n",
    "import time\n",
    "\n",
    "from datetime import datetime"
   ]
  },
  {
   "cell_type": "code",
   "execution_count": 2,
   "id": "4bd41c60",
   "metadata": {},
   "outputs": [],
   "source": [
    "\n",
    "data = {}"
   ]
  },
  {
   "cell_type": "markdown",
   "id": "e02a1a5e",
   "metadata": {},
   "source": [
    "# MQTT Logs "
   ]
  },
  {
   "cell_type": "code",
   "execution_count": 3,
   "id": "e257863c",
   "metadata": {},
   "outputs": [],
   "source": [
    "mqtt_log_dir = './worker2_gamutrf'\n",
    "mqtt_log_paths = [mqtt_log_dir+'/'+d for d in os.listdir(mqtt_log_dir)]"
   ]
  },
  {
   "cell_type": "code",
   "execution_count": 4,
   "id": "dadf1a95",
   "metadata": {},
   "outputs": [],
   "source": [
    "def plt_metric(df, metric=None):\n",
    "    assert metric in df\n",
    "    \n",
    "    plt.figure()\n",
    "    plt.plot(df[metric])\n",
    "    plt.title('{}'.format(metric))\n",
    "    plt.xlabel('time')\n",
    "    plt.show()"
   ]
  },
  {
   "cell_type": "code",
   "execution_count": 5,
   "id": "841990fb",
   "metadata": {},
   "outputs": [],
   "source": [
    "mqtt_unixtimes = {}\n",
    "for i in range(len(mqtt_log_paths)):    \n",
    "    mqtt_unixtimes[mqtt_log_paths[i]] = float(Path(mqtt_log_paths[i]).stem.split('-')[-1])\n",
    "\n",
    "mqtt_times_sorted = sorted(list(mqtt_unixtimes.values()))\n"
   ]
  },
  {
   "cell_type": "code",
   "execution_count": null,
   "id": "ff5682b2",
   "metadata": {},
   "outputs": [],
   "source": []
  },
  {
   "cell_type": "code",
   "execution_count": 6,
   "id": "c8842b2a",
   "metadata": {
    "scrolled": false
   },
   "outputs": [
    {
     "name": "stdout",
     "output_type": "stream",
     "text": [
      "./worker2_gamutrf/mqtt-rssi-1653598742.8098805.log  contains  1335  entries\n",
      "1653598742  :  1653600079\n",
      "./worker2_gamutrf/mqtt-rssi-1653586596.6105318.log  contains  266  entries\n",
      "1653586596  :  1653586867\n",
      "./worker2_gamutrf/mqtt-rssi-1653587241.617232.log  contains  341  entries\n",
      "1653587262  :  1653587717\n",
      "./worker2_gamutrf/mqtt-rssi-1653587981.4320872.log  contains  1230  entries\n",
      "1653587981  :  1653591345\n",
      "./worker2_gamutrf/mqtt-rssi-1653597102.8017416.log  contains  344  entries\n",
      "1653597102  :  1653597446\n"
     ]
    }
   ],
   "source": [
    "df_main = pd.DataFrame(columns=['unixtime'])\n",
    "mqtt_count = 0 \n",
    "for i in range(len(mqtt_log_paths)): \n",
    "    log = []\n",
    "    with open(mqtt_log_paths[i], 'r') as mqtt_file:\n",
    "        for line in mqtt_file: \n",
    "            l = json.loads(line)\n",
    "            log.append(l)\n",
    "            unixtimestamp = l['gps_time']\n",
    "            if unixtimestamp is not None: \n",
    "                unixtimestamp = int(unixtimestamp)\n",
    "                mqtt_count += 1 \n",
    "                if unixtimestamp not in data: \n",
    "                    data[unixtimestamp] = l\n",
    "                else: \n",
    "                    data[unixtimestamp].update(l)\n",
    "            \n",
    "            \n",
    "    print(mqtt_log_paths[i],' contains ',len(log),' entries')\n",
    "    #print (log)\n",
    "    \n",
    "    df = pd.DataFrame(log)\n",
    "    #plt_metric(df, 'rssi')\n",
    "    a = list(df['time'])\n",
    "    #print(a[0:10])\n",
    "    a = list(df['gps_time'])\n",
    "    #print(a[0:10])\n",
    "    df['unixtime'] = df['time'].to_numpy().astype(np.int)\n",
    "\n",
    "    #df_main = df_main.merge(df, how='outer', on=[c for c in list(df_main.columns) if c in list(df.columns)])\n",
    "    print(df['unixtime'][0],' : ',df['unixtime'].iloc[-1])\n",
    "    #print(df['time'][0])\n",
    "    #print(df['time'][len(df['time']-1)])\n"
   ]
  },
  {
   "cell_type": "markdown",
   "id": "3351c3c5",
   "metadata": {},
   "source": [
    "# BirdsEye Logs"
   ]
  },
  {
   "cell_type": "code",
   "execution_count": 7,
   "id": "a0a060f1",
   "metadata": {},
   "outputs": [],
   "source": [
    "birdseye_logs = [d.path for d in os.scandir('./birdseye/runs/') if os.path.isdir(d)]"
   ]
  },
  {
   "cell_type": "code",
   "execution_count": 8,
   "id": "5f0b8c58",
   "metadata": {},
   "outputs": [],
   "source": [
    "birdseye_unixtimes = {}\n",
    "for log in birdseye_logs: \n",
    "    try: \n",
    "        birdseye_unixtimes[log] = calendar.timegm(time.strptime(Path(log).stem.split('_')[0], '%Y-%m-%dT%H:%M:%S' ))\n",
    "    except: \n",
    "        pass\n",
    "\n",
    "birdseye_times_sorted = sorted(list(birdseye_unixtimes.values()))\n"
   ]
  },
  {
   "cell_type": "code",
   "execution_count": 9,
   "id": "a0954bc4",
   "metadata": {
    "scrolled": false
   },
   "outputs": [
    {
     "name": "stdout",
     "output_type": "stream",
     "text": [
      "./birdseye/runs/2022-05-26T18:25:34_logs  contains  65  entries\n",
      "1653589552  :  1653590111\n",
      "./birdseye/runs/2022-05-26T18:47:55_logs  contains  89  entries\n",
      "1653590883  :  1653591487\n",
      "./birdseye/runs/2022-05-26T17:58:00_logs  contains  111  entries\n",
      "1653587898  :  1653588809\n",
      "./birdseye/runs/2022-05-26T21:01:57_logs  contains  307  entries\n",
      "1653598926  :  1653600106\n",
      "./birdseye/runs/2022-05-26T17:38:12_logs  contains  18  entries\n",
      "1653586714  :  1653586866\n",
      "./birdseye/runs/2022-05-26T20:28:22_logs  contains  78  entries\n",
      "1653596913  :  1653597439\n"
     ]
    }
   ],
   "source": [
    "birdseye_count = 0\n",
    "for log in birdseye_logs: \n",
    "    if os.path.isfile(log+'/observation.npy'):\n",
    "        obs = np.load(log+'/observation.npy', allow_pickle=True)\n",
    "        if not any(obs): \n",
    "            continue\n",
    "        unix_timestamps = sorted([int(f.split('_')[0]) for f in os.listdir(log) if f.endswith('_particles.npy')])\n",
    "        for ut, rssi in zip(unix_timestamps, obs): \n",
    "            birdseye_count += 1\n",
    "            #print(ut, rssi,type(rssi))\n",
    "            if ut not in data: \n",
    "                data[ut] = {'birdseye_rssi': rssi}\n",
    "            else: \n",
    "                data[ut].update({'birdseye_rssi': rssi})\n",
    "        df = pd.DataFrame()\n",
    "        df['rssi'] = obs\n",
    "        df['unixtimestamp'] = unix_timestamps\n",
    "        \n",
    "        print(log,' contains ',len(df['rssi']),' entries')\n",
    "        print(df['unixtimestamp'][0],' : ',df['unixtimestamp'].iloc[-1])\n",
    "        #plt_metric(df, 'rssi')"
   ]
  },
  {
   "cell_type": "markdown",
   "id": "ace5a742",
   "metadata": {},
   "source": [
    "# Drone Logs"
   ]
  },
  {
   "cell_type": "code",
   "execution_count": 10,
   "id": "1c759917",
   "metadata": {},
   "outputs": [],
   "source": [
    "drone_time_raw = (\"\"\"$ GetFileInfo -d DJI_0003.MP4 \n",
    "05/26/2022 11:19:36\n",
    "$ GetFileInfo -d DJI_0004.MP4 \n",
    "05/26/2022 11:28:45\n",
    "$ GetFileInfo -d DJI_0005.MP4 \n",
    "05/26/2022 11:33:56\n",
    "$ GetFileInfo -d DJI_0006.MP4 \n",
    "05/26/2022 11:36:35\n",
    "$ GetFileInfo -d DJI_0007.MP4 \n",
    "05/26/2022 11:38:40\n",
    "$ GetFileInfo -d DJI_0008.MP4 \n",
    "05/26/2022 13:41:45\n",
    "$ GetFileInfo -d DJI_0009.MP4 \n",
    "05/26/2022 14:06:13\n",
    "$ GetFileInfo -d DJI_0010.MP4 \n",
    "05/26/2022 14:11:41\n",
    "$ GetFileInfo -d DJI_0011.MP4 \n",
    "05/26/2022 14:26:10\n",
    "$ GetFileInfo -d DJI_0012.MP4 \n",
    "05/26/2022 14:31:38\n",
    "$ GetFileInfo -d DJI_0013.MP4 \n",
    "05/26/2022 14:37:08\n",
    "$ GetFileInfo -d DJI_0014.MP4 \n",
    "05/26/2022 14:40:18\n",
    "$ GetFileInfo -d DJI_0015.MP4 \n",
    "05/26/2022 14:45:47\"\"\")\n",
    "\n",
    "drone_times = {}\n",
    "for line in drone_time_raw.split('$'): \n",
    "    line = [l.strip() for l in line.split(' ')]\n",
    "    \n",
    "    for i in range(len(line)): \n",
    "        if line[i].endswith('.MP4'):\n",
    "            timestr = ' '.join(line[i+1:])\n",
    "            dt = datetime.strptime(timestr, '%m/%d/%Y %H:%M:%S')\n",
    "            \n",
    "            local = pytz.timezone(\"America/Los_Angeles\")\n",
    "\n",
    "            local_dt = local.localize(dt, is_dst=None)\n",
    "            dt = local_dt.astimezone(pytz.utc)\n",
    "\n",
    "\n",
    "            #dt = dt.replace(tzinfo=timezone.utc)\n",
    "            #dt = dt.astimezone(timezone('US/Pacific'))\n",
    "            \n",
    "            #drone_times[line[i]] = calendar.timegm(time.strptime(timestr, '%m/%d/%Y %H:%M:%S'))\n",
    "            drone_times[line[i]] = dt.timestamp()\n",
    "            break\n",
    "    \n",
    "        \n",
    "#print(drone_times)\n",
    "drone_times_sorted = sorted(drone_times.values())\n",
    "#print(drone_times_sorted)"
   ]
  },
  {
   "cell_type": "code",
   "execution_count": 11,
   "id": "65201c37",
   "metadata": {
    "scrolled": false
   },
   "outputs": [
    {
     "name": "stdout",
     "output_type": "stream",
     "text": [
      "./drone/DJI_0003.MP4.srt  contains  61  entries\n",
      "1653589177  :  1653589237\n",
      "./drone/DJI_0004.MP4.srt  contains  56  entries\n",
      "1653589726  :  1653589781\n",
      "./drone/DJI_0005.MP4.srt  contains  60  entries\n",
      "1653590037  :  1653590096\n",
      "./drone/DJI_0006.MP4.srt  contains  64  entries\n",
      "1653590196  :  1653590259\n",
      "./drone/DJI_0007.MP4.srt  contains  690  entries\n",
      "1653590321  :  1653591010\n",
      "./drone/DJI_0008.MP4.srt  contains  366  entries\n",
      "1653597706  :  1653598071\n",
      "./drone/DJI_0009.MP4.srt  contains  328  entries\n",
      "1653599174  :  1653599501\n",
      "./drone/DJI_0010.MP4.srt  contains  306  entries\n",
      "1653599502  :  1653599807\n",
      "./drone/DJI_0011.MP4.srt  contains  328  entries\n",
      "1653600371  :  1653600698\n",
      "./drone/DJI_0012.MP4.srt  contains  329  entries\n",
      "1653600699  :  1653601027\n",
      "./drone/DJI_0013.MP4.srt  contains  67  entries\n",
      "1653601029  :  1653601095\n",
      "./drone/DJI_0014.MP4.srt  contains  328  entries\n",
      "1653601219  :  1653601546\n",
      "./drone/DJI_0015.MP4.srt  contains  220  entries\n",
      "1653601548  :  1653601767\n"
     ]
    }
   ],
   "source": [
    "drone_log_dir = './drone'\n",
    "drone_log_paths = [drone_log_dir+'/'+d for d in os.listdir(drone_log_dir)]\n",
    "drone_log_paths = sorted(drone_log_paths)\n",
    "drone_count = 0 \n",
    "for i in range(len(drone_log_paths)): \n",
    "    log = {}\n",
    "    log.update({\n",
    "        'position':[], \n",
    "        'unixtimestamp':[]\n",
    "    })\n",
    "    with open(drone_log_paths[i], 'r') as drone_file:\n",
    "        unixtimestamp = int(drone_times[Path(drone_log_paths[i]).stem])\n",
    "        for line in drone_file: \n",
    "            \n",
    "            coord = line[line.find('('):line.find(')')][1:]\n",
    "            if len(coord) == 0: \n",
    "                continue\n",
    "            unixtimestamp += 1\n",
    "            position = [float(c.strip()) for c in coord.split(',')[:2]]\n",
    "            log['position'].append(position)\n",
    "            log['unixtimestamp'].append(unixtimestamp)\n",
    "            drone_count += 1\n",
    "            if unixtimestamp not in data: \n",
    "                \n",
    "                data[unixtimestamp] = {'drone_position':position}\n",
    "            else: \n",
    "                \n",
    "                data[unixtimestamp].update({'drone_position':position})\n",
    "                \n",
    "    log['position'] = np.array(log['position'])\n",
    "    log['position'][:,[0,1]] = log['position'][:,[1,0]]\n",
    "    \n",
    "    print(drone_log_paths[i],' contains ',log['position'].shape[0],' entries')\n",
    "#             log.append(json.loads(line))\n",
    "#     print(mqtt_log_paths[i],' contains ',len(log),' entries')\n",
    "    \n",
    "    df = pd.DataFrame()\n",
    "    df['position'] = log['position'].tolist()\n",
    "    df['unixtimestamp'] = log['unixtimestamp']\n",
    "    print(df['unixtimestamp'][0],' : ',df['unixtimestamp'].iloc[-1])\n",
    "    #print(df)\n",
    "    #plt_metric(df, 'rssi')"
   ]
  },
  {
   "cell_type": "code",
   "execution_count": 12,
   "id": "b13e8cb2",
   "metadata": {
    "scrolled": false
   },
   "outputs": [
    {
     "name": "stdout",
     "output_type": "stream",
     "text": [
      "first found =  1653589177\n",
      "last found =  1653589237\n",
      "n_found =  60\n",
      "first found =  1653590947\n",
      "last found =  1653591007\n",
      "n_found =  60\n",
      "first found =  1653599174\n",
      "last found =  1653599808\n",
      "n_found =  634\n"
     ]
    }
   ],
   "source": [
    "first_idx_found = None \n",
    "last_idx_found = None\n",
    "last_ts = None \n",
    "i = 0\n",
    "buffer = 0 \n",
    "chunk_ts = []\n",
    "for ts in sorted(data.keys()): \n",
    "    \n",
    "    rssi = data[ts].get('rssi',None)\n",
    "    position = data[ts].get('position',None)\n",
    "    drone_position = data[ts].get('drone_position',None)\n",
    "\n",
    "    if position and drone_position: \n",
    "        buffer = 0 \n",
    "        last_idx_found = None\n",
    "        #print('rssi = {}, position = {}, drone_position = {}'.format(rssi, position, drone_position))\n",
    "        #print('match = ',ts)\n",
    "        if first_idx_found is None: \n",
    "            first_idx_found = ts\n",
    "\n",
    "    else: \n",
    "        buffer += 1\n",
    "        \n",
    "        if first_idx_found is not None and last_idx_found is None: #TODO : solve this line \n",
    "            last_idx_found = ts\n",
    "        #if first_idx_found is not None and last_idx_found - first_idx_found > 15: \n",
    "            #print('buffer = ',buffer,'ts = ',ts)\n",
    "        if buffer > 5 and first_idx_found is not None: \n",
    "            n_found = last_idx_found - first_idx_found\n",
    "\n",
    "            if n_found > 20:\n",
    "                chunk_ts.append([first_idx_found,last_idx_found])\n",
    "                print('first found = ',first_idx_found)\n",
    "                print('last found = ',last_idx_found)\n",
    "                print('n_found = ',n_found)\n",
    "            buffer = 0 \n",
    "            \n",
    "            first_idx_found = None\n",
    "            last_idx_found = None\n",
    "    i += 1"
   ]
  },
  {
   "cell_type": "code",
   "execution_count": 13,
   "id": "865a5e58",
   "metadata": {},
   "outputs": [],
   "source": [
    "class NumpyEncoder(json.JSONEncoder):\n",
    "    def default(self, obj):\n",
    "        if isinstance(obj, np.ndarray):\n",
    "            return obj.tolist()\n",
    "        return json.JSONEncoder.default(self, obj)"
   ]
  },
  {
   "cell_type": "code",
   "execution_count": 14,
   "id": "8af51661",
   "metadata": {},
   "outputs": [
    {
     "name": "stdout",
     "output_type": "stream",
     "text": [
      "saved  aligned_1653589177_1653589237.json\n",
      "saved  aligned_1653590947_1653591007.json\n",
      "saved  aligned_1653599174_1653599808.json\n"
     ]
    }
   ],
   "source": [
    "# Data blocks as json\n",
    "for start_ts,end_ts in chunk_ts: \n",
    "    data_block = {}\n",
    "    for ts in range(start_ts,end_ts): \n",
    "        data_block[ts] = data[ts]\n",
    "\n",
    "    with open('aligned_{}_{}.json'.format(start_ts,end_ts), 'w') as outfile:\n",
    "        json.dump(data_block, outfile, cls=NumpyEncoder)\n",
    "        print('saved ','aligned_{}_{}.json'.format(start_ts,end_ts))\n",
    "        \n",
    "# # Data blocks as csv\n",
    "# for start_ts,end_ts in chunk_ts: \n",
    "#     data_block = []\n",
    "#     for ts in range(start_ts,end_ts): \n",
    "#         data[ts]['unixtime'] = ts\n",
    "#         data_block.append(data[ts])\n",
    "\n",
    "#     df = pd.DataFrame(data_block)\n",
    "#     df.to_csv('aligned_{}_{}.csv'.format(start_ts,end_ts))\n"
   ]
  },
  {
   "cell_type": "code",
   "execution_count": 18,
   "id": "a9db90d7",
   "metadata": {
    "scrolled": false
   },
   "outputs": [],
   "source": [
    "\n",
    "with open(\"aligned_1653599174_1653599808.json\", \"r\") as read_content:\n",
    "    json_data = json.load(read_content)"
   ]
  },
  {
   "cell_type": "code",
   "execution_count": 22,
   "id": "20cace1d",
   "metadata": {},
   "outputs": [],
   "source": [
    "replay_ts = sorted(json_data.keys())"
   ]
  },
  {
   "cell_type": "code",
   "execution_count": 26,
   "id": "43fb6c1d",
   "metadata": {},
   "outputs": [
    {
     "name": "stdout",
     "output_type": "stream",
     "text": [
      "1653599238  position\n",
      "1653599238  rssi\n",
      "1653599247  position\n",
      "1653599247  rssi\n",
      "1653599249  position\n",
      "1653599249  rssi\n",
      "1653599260  position\n",
      "1653599260  rssi\n",
      "1653599263  position\n",
      "1653599263  rssi\n",
      "1653599265  position\n",
      "1653599265  rssi\n",
      "1653599267  position\n",
      "1653599267  rssi\n",
      "1653599272  position\n",
      "1653599272  rssi\n",
      "1653599732  position\n",
      "1653599732  rssi\n",
      "1653599741  position\n",
      "1653599741  rssi\n",
      "1653599745  position\n",
      "1653599745  rssi\n",
      "1653599748  position\n",
      "1653599748  rssi\n",
      "1653599750  position\n",
      "1653599750  rssi\n"
     ]
    }
   ],
   "source": [
    "for ts in replay_ts: \n",
    "    if 'position' not in json_data[ts]: \n",
    "        print(ts,' position')\n",
    "    if 'drone_position' not in json_data[ts]: \n",
    "        print(ts,' drone_position')\n",
    "    if 'rssi' not in json_data[ts]: \n",
    "        print(ts,' rssi')\n"
   ]
  },
  {
   "cell_type": "code",
   "execution_count": 15,
   "id": "8e61cc18",
   "metadata": {},
   "outputs": [
    {
     "data": {
      "image/png": "[encoded data removed]",
      "text/plain": [
       "<Figure size 432x288 with 1 Axes>"
      ]
     },
     "metadata": {
      "needs_background": "light"
     },
     "output_type": "display_data"
    }
   ],
   "source": [
    "plt.figure()\n",
    "ar = np.array(range(len(mqtt_times_sorted)))\n",
    "plt.plot(ar,ar+mqtt_times_sorted, 'x')\n",
    "#plt.plot(birdseye_times_sorted[2:], 'b+')\n",
    "#plt.plot(drone_times_sorted, 'g^')\n",
    "plt.show()"
   ]
  },
  {
   "cell_type": "code",
   "execution_count": 16,
   "id": "271d3338",
   "metadata": {},
   "outputs": [
    {
     "data": {
      "image/png": "[encoded data removed]",
      "text/plain": [
       "<Figure size 432x288 with 1 Axes>"
      ]
     },
     "metadata": {
      "needs_background": "light"
     },
     "output_type": "display_data"
    }
   ],
   "source": [
    "#y_range = np.max([len(mqtt_times_sorted), len(birdseye_times_sorted), len(drone_times_sorted)])\n",
    "plt.figure()\n",
    "plt.plot(mqtt_times_sorted,np.zeros_like(mqtt_times_sorted), 'ro')\n",
    "plt.plot(birdseye_times_sorted[2:],np.zeros_like(birdseye_times_sorted[2:]), 'b+')\n",
    "plt.plot(drone_times_sorted, np.zeros_like(drone_times_sorted), 'g^')\n",
    "plt.show()"
   ]
  },
  {
   "cell_type": "code",
   "execution_count": 17,
   "id": "0db4df40",
   "metadata": {},
   "outputs": [
    {
     "data": {
      "image/png": "[encoded data removed]",
      "text/plain": [
       "<Figure size 432x288 with 1 Axes>"
      ]
     },
     "metadata": {
      "needs_background": "light"
     },
     "output_type": "display_data"
    }
   ],
   "source": [
    "import numpy as np\n",
    "import matplotlib.pyplot as pp\n",
    "val = 0. # this is the value where you want the data to appear on the y-axis.\n",
    "ar = np.arange(10) # just as an example array\n",
    "pp.plot(ar, np.zeros_like(ar) + val, 'x')\n",
    "pp.show()"
   ]
  },
  {
   "cell_type": "code",
   "execution_count": 31,
   "id": "1a9fc07c",
   "metadata": {},
   "outputs": [],
   "source": [
    "def is_float(element):\n",
    "    try:\n",
    "        float(element)\n",
    "        return True\n",
    "    except (ValueError, TypeError):\n",
    "        return False\n"
   ]
  },
  {
   "cell_type": "code",
   "execution_count": 33,
   "id": "69e5cec7",
   "metadata": {},
   "outputs": [
    {
     "data": {
      "text/plain": [
       "False"
      ]
     },
     "execution_count": 33,
     "metadata": {},
     "output_type": "execute_result"
    }
   ],
   "source": [
    "is_float(None)"
   ]
  },
  {
   "cell_type": "code",
   "execution_count": null,
   "id": "d0c345dd",
   "metadata": {},
   "outputs": [],
   "source": []
  }
 ],
 "metadata": {
  "kernelspec": {
   "display_name": "Python 3 (ipykernel)",
   "language": "python",
   "name": "python3"
  },
  "language_info": {
   "codemirror_mode": {
    "name": "ipython",
    "version": 3
   },
   "file_extension": ".py",
   "mimetype": "text/x-python",
   "name": "python",
   "nbconvert_exporter": "python",
   "pygments_lexer": "ipython3",
   "version": "3.8.2"
  }
 },
 "nbformat": 4,
 "nbformat_minor": 5
}
