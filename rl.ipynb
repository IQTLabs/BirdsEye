{
 "metadata": {
  "language_info": {
   "codemirror_mode": {
    "name": "ipython",
    "version": 3
   },
   "file_extension": ".py",
   "mimetype": "text/x-python",
   "name": "python",
   "nbconvert_exporter": "python",
   "pygments_lexer": "ipython3",
   "version": "3.8.2-final"
  },
  "orig_nbformat": 2,
  "kernelspec": {
   "name": "python3",
   "display_name": "Python 3",
   "language": "python"
  }
 },
 "nbformat": 4,
 "nbformat_minor": 2,
 "cells": [
  {
   "cell_type": "code",
   "execution_count": 1,
   "metadata": {},
   "outputs": [],
   "source": [
    "import torch\n",
    "from torch.optim import Adam\n",
    "\n",
    "from birdseye.sensor import * \n",
    "from birdseye.actions import *\n",
    "from birdseye.dqn import * \n",
    "from birdseye.env import RFEnv\n",
    "from birdseye.rl_common.logger import init_logger\n",
    "from birdseye.rl_common.models import CNN, MLP"
   ]
  },
  {
   "cell_type": "code",
   "execution_count": 2,
   "metadata": {
    "tags": []
   },
   "outputs": [
    {
     "output_type": "stream",
     "name": "stdout",
     "text": [
      "Available Actions:\n",
      "  ID, Values\n",
      "   0   (-30, 1)\n",
      "   1   (-30, 2)\n",
      "   2   (0, 1)\n",
      "   3   (0, 2)\n",
      "   4   (30, 1)\n",
      "   5   (30, 2)\n",
      "INFO 2021-03-11 03:32:04,326 MainProcess 54390| dqn.py | [line:144] | ========== Iter 200 ==========\n",
      "INFO 2021-03-11 03:32:04,327 MainProcess 54390| dqn.py | [line:146] | Total timesteps 200 FPS 23\n",
      "INFO 2021-03-11 03:32:04,328 MainProcess 54390| dqn.py | [line:149] | eplenmean: 150.500000\n",
      "INFO 2021-03-11 03:32:04,329 MainProcess 54390| dqn.py | [line:149] | eprewmean: 0.095000\n",
      "INFO 2021-03-11 03:32:04,329 MainProcess 54390| dqn.py | [line:151] | vloss: 0.000253\n",
      "INFO 2021-03-11 03:32:18,018 MainProcess 54390| dqn.py | [line:144] | ========== Iter 400 ==========\n",
      "INFO 2021-03-11 03:32:18,019 MainProcess 54390| dqn.py | [line:146] | Total timesteps 400 FPS 17\n",
      "INFO 2021-03-11 03:32:18,020 MainProcess 54390| dqn.py | [line:149] | eplenmean: 350.500000\n",
      "INFO 2021-03-11 03:32:18,021 MainProcess 54390| dqn.py | [line:149] | eprewmean: -2.020500\n",
      "INFO 2021-03-11 03:32:18,021 MainProcess 54390| dqn.py | [line:151] | vloss: 0.219605\n",
      "INFO 2021-03-11 03:32:31,990 MainProcess 54390| dqn.py | [line:144] | ========== Iter 600 ==========\n",
      "INFO 2021-03-11 03:32:31,990 MainProcess 54390| dqn.py | [line:146] | Total timesteps 600 FPS 16\n",
      "INFO 2021-03-11 03:32:31,991 MainProcess 54390| dqn.py | [line:149] | eplenmean: 550.500000\n",
      "INFO 2021-03-11 03:32:31,991 MainProcess 54390| dqn.py | [line:149] | eprewmean: -2.021000\n",
      "INFO 2021-03-11 03:32:31,992 MainProcess 54390| dqn.py | [line:151] | vloss: 0.143290\n",
      "INFO 2021-03-11 03:32:45,801 MainProcess 54390| dqn.py | [line:144] | ========== Iter 800 ==========\n",
      "INFO 2021-03-11 03:32:45,802 MainProcess 54390| dqn.py | [line:146] | Total timesteps 800 FPS 15\n",
      "INFO 2021-03-11 03:32:45,803 MainProcess 54390| dqn.py | [line:149] | eplenmean: 750.500000\n",
      "INFO 2021-03-11 03:32:45,804 MainProcess 54390| dqn.py | [line:149] | eprewmean: -2.025500\n",
      "INFO 2021-03-11 03:32:45,804 MainProcess 54390| dqn.py | [line:151] | vloss: 0.159984\n",
      "INFO 2021-03-11 03:32:59,631 MainProcess 54390| dqn.py | [line:144] | ========== Iter 1000 ==========\n",
      "INFO 2021-03-11 03:32:59,631 MainProcess 54390| dqn.py | [line:146] | Total timesteps 1000 FPS 15\n",
      "INFO 2021-03-11 03:32:59,632 MainProcess 54390| dqn.py | [line:149] | eplenmean: 950.500000\n",
      "INFO 2021-03-11 03:32:59,632 MainProcess 54390| dqn.py | [line:149] | eprewmean: -2.040500\n",
      "INFO 2021-03-11 03:32:59,633 MainProcess 54390| dqn.py | [line:151] | vloss: 0.080131\n"
     ]
    }
   ],
   "source": [
    "device = torch.device('cuda' if torch.cuda.is_available() else 'cpu')\n",
    "\n",
    "sensor = Drone()\n",
    "actions = SimpleActions()\n",
    "env = RFEnv(sensor, actions)\n",
    "\n",
    "log_path = 'rl_log'\n",
    "logger = init_logger(log_path)\n",
    "\n",
    "number_timesteps = 10000\n",
    "\n",
    "dueling = True\n",
    "atom_num = 1\n",
    "policy_dim = len(env.actions.action_space)\n",
    "in_dim = (1, 100, 100)\n",
    "network = CNN(in_dim, policy_dim, atom_num, dueling)\n",
    "optimizer = Adam(network.parameters(), 1e-4, eps=1e-5)\n",
    "\n",
    "save_path = 'checkpoints'\n",
    "save_interval = 1000 # save model every x steps (0 = disabled)\n",
    "ob_scale = 1\n",
    "\n",
    "gamma = 0.99\n",
    "grad_norm = 10 # set by original author\n",
    "\n",
    "double_q = True\n",
    "param_noise = False\n",
    "\n",
    "exploration_fraction = 0.2\n",
    "exploration_final_eps = 0.1\n",
    "\n",
    "batch_size = 100\n",
    "train_freq = 4\n",
    "learning_starts = 100\n",
    "target_network_update_freq = 200\n",
    "\n",
    "buffer_size = 10000\n",
    "prioritized_replay = False\n",
    "prioritized_replay_alpha = 0.6\n",
    "prioritized_replay_beta0 = 0.4\n",
    "\n",
    "\n",
    "min_value = -10\n",
    "max_value = 10\n",
    "\n",
    "\n",
    "\n",
    "learn(logger,\n",
    "        device, env,\n",
    "        number_timesteps,\n",
    "        network, optimizer,\n",
    "        save_path, save_interval, ob_scale,\n",
    "        gamma, grad_norm,\n",
    "        double_q, param_noise,\n",
    "        exploration_fraction, exploration_final_eps,\n",
    "        batch_size, train_freq, learning_starts, target_network_update_freq,\n",
    "        buffer_size, prioritized_replay, prioritized_replay_alpha,\n",
    "        prioritized_replay_beta0, atom_num, min_value, max_value)"
   ]
  },
  {
   "cell_type": "code",
   "execution_count": null,
   "metadata": {},
   "outputs": [],
   "source": []
  }
 ]
}