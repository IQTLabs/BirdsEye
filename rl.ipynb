{
 "cells": [
  {
   "cell_type": "code",
   "execution_count": 1,
   "metadata": {},
   "outputs": [],
   "source": [
    "import torch\n",
    "from torch.optim import Adam\n",
    "\n",
    "from birdseye.sensor import * \n",
    "from birdseye.actions import *\n",
    "from birdseye.dqn import * \n",
    "from birdseye.env import RFEnv\n",
    "from birdseye.rl_common.logger import init_logger\n",
    "from birdseye.rl_common.models import CNN, MLP"
   ]
  },
  {
   "cell_type": "code",
   "execution_count": 2,
   "metadata": {
    "tags": [
     "outputPrepend"
    ]
   },
   "outputs": [
    {
     "name": "stdout",
     "output_type": "stream",
     "text": [
      "Available Actions:\n",
      "  ID, Values\n",
      "   0   (-30, 1)\n",
      "   1   (-30, 2)\n",
      "   2   (0, 1)\n",
      "   3   (0, 2)\n",
      "   4   (30, 1)\n",
      "   5   (30, 2)\n"
     ]
    },
    {
     "ename": "NameError",
     "evalue": "name 'learn' is not defined",
     "output_type": "error",
     "traceback": [
      "\u001b[0;31m---------------------------------------------------------------------------\u001b[0m",
      "\u001b[0;31mNameError\u001b[0m                                 Traceback (most recent call last)",
      "\u001b[0;32m<ipython-input-2-071bd8af237a>\u001b[0m in \u001b[0;36m<module>\u001b[0;34m\u001b[0m\n\u001b[1;32m     46\u001b[0m \u001b[0;34m\u001b[0m\u001b[0m\n\u001b[1;32m     47\u001b[0m \u001b[0;34m\u001b[0m\u001b[0m\n\u001b[0;32m---> 48\u001b[0;31m learn(logger,\n\u001b[0m\u001b[1;32m     49\u001b[0m         \u001b[0mdevice\u001b[0m\u001b[0;34m,\u001b[0m \u001b[0menv\u001b[0m\u001b[0;34m,\u001b[0m\u001b[0;34m\u001b[0m\u001b[0;34m\u001b[0m\u001b[0m\n\u001b[1;32m     50\u001b[0m         \u001b[0mnumber_timesteps\u001b[0m\u001b[0;34m,\u001b[0m\u001b[0;34m\u001b[0m\u001b[0;34m\u001b[0m\u001b[0m\n",
      "\u001b[0;31mNameError\u001b[0m: name 'learn' is not defined"
     ]
    }
   ],
   "source": [
    "device = torch.device('cuda' if torch.cuda.is_available() else 'cpu')\n",
    "\n",
    "sensor = Drone()\n",
    "actions = SimpleActions()\n",
    "env = RFEnv(sensor, actions)\n",
    "\n",
    "log_path = 'rl_log'\n",
    "logger = init_logger(log_path)\n",
    "\n",
    "number_timesteps = 10000\n",
    "\n",
    "dueling = True\n",
    "atom_num = 1\n",
    "policy_dim = len(env.actions.action_space)\n",
    "in_dim = (1, 100, 100)\n",
    "network = CNN(in_dim, policy_dim, atom_num, dueling)\n",
    "optimizer = Adam(network.parameters(), 1e-4, eps=1e-5)\n",
    "\n",
    "save_path = 'checkpoints'\n",
    "save_interval = 1000 # save model every x steps (0 = disabled)\n",
    "ob_scale = 1\n",
    "\n",
    "gamma = 0.99\n",
    "grad_norm = 10 # set by original author\n",
    "\n",
    "double_q = True\n",
    "param_noise = False\n",
    "\n",
    "exploration_fraction = 0.1\n",
    "exploration_final_eps = 0.01\n",
    "\n",
    "batch_size = 100\n",
    "train_freq = 4\n",
    "learning_starts = 1000\n",
    "target_network_update_freq = 200\n",
    "\n",
    "buffer_size = 10000\n",
    "prioritized_replay = False\n",
    "prioritized_replay_alpha = 0.6\n",
    "prioritized_replay_beta0 = 0.4\n",
    "\n",
    "\n",
    "min_value = -10\n",
    "max_value = 10\n",
    "\n",
    "\n",
    "\n",
    "learn(logger,\n",
    "        device, env,\n",
    "        number_timesteps,\n",
    "        network, optimizer,\n",
    "        save_path, save_interval, ob_scale,\n",
    "        gamma, grad_norm,\n",
    "        double_q, param_noise,\n",
    "        exploration_fraction, exploration_final_eps,\n",
    "        batch_size, train_freq, learning_starts, target_network_update_freq,\n",
    "        buffer_size, prioritized_replay, prioritized_replay_alpha,\n",
    "        prioritized_replay_beta0, atom_num, min_value, max_value)"
   ]
  }
 ],
 "metadata": {
  "kernelspec": {
   "display_name": "Python 3",
   "language": "python",
   "name": "python3"
  },
  "language_info": {
   "codemirror_mode": {
    "name": "ipython",
    "version": 3
   },
   "file_extension": ".py",
   "mimetype": "text/x-python",
   "name": "python",
   "nbconvert_exporter": "python",
   "pygments_lexer": "ipython3",
   "version": "3.8.8"
  }
 },
 "nbformat": 4,
 "nbformat_minor": 2
}
